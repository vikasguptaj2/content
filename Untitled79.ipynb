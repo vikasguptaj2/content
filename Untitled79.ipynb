{
  "nbformat": 4,
  "nbformat_minor": 0,
  "metadata": {
    "colab": {
      "provenance": [],
      "include_colab_link": true
    },
    "kernelspec": {
      "name": "python3",
      "display_name": "Python 3"
    },
    "language_info": {
      "name": "python"
    }
  },
  "cells": [
    {
      "cell_type": "markdown",
      "metadata": {
        "id": "view-in-github",
        "colab_type": "text"
      },
      "source": [
        "<a href=\"https://colab.research.google.com/github/vikasguptaj2/content/blob/main/Untitled79.ipynb\" target=\"_parent\"><img src=\"https://colab.research.google.com/assets/colab-badge.svg\" alt=\"Open In Colab\"/></a>"
      ]
    },
    {
      "cell_type": "code",
      "execution_count": null,
      "metadata": {
        "colab": {
          "base_uri": "https://localhost:8080/"
        },
        "id": "W7RN3kv4nPyX",
        "outputId": "b7cd60bb-fb6c-4b02-ce5f-fb38268a40cd"
      },
      "outputs": [
        {
          "output_type": "stream",
          "name": "stdout",
          "text": [
            "Welcome To Python\n"
          ]
        }
      ],
      "source": [
        "print(\"Welcome To Python\")"
      ]
    },
    {
      "cell_type": "code",
      "source": [
        "print('welcome')"
      ],
      "metadata": {
        "colab": {
          "base_uri": "https://localhost:8080/"
        },
        "id": "en8a6dyInoou",
        "outputId": "dca91480-0f22-4839-e330-4e208ae4b5df"
      },
      "execution_count": null,
      "outputs": [
        {
          "output_type": "stream",
          "name": "stdout",
          "text": [
            "welcome\n"
          ]
        }
      ]
    },
    {
      "cell_type": "code",
      "source": [
        "Univ = \"LTSU\"\n",
        "A = \"Univ\""
      ],
      "metadata": {
        "id": "07X2NhCtn549"
      },
      "execution_count": null,
      "outputs": []
    },
    {
      "cell_type": "code",
      "source": [
        "a = \"2\""
      ],
      "metadata": {
        "id": "NddwEFCeoCmq"
      },
      "execution_count": null,
      "outputs": []
    },
    {
      "cell_type": "code",
      "source": [
        "print(A)\n",
        "print(a)"
      ],
      "metadata": {
        "colab": {
          "base_uri": "https://localhost:8080/"
        },
        "id": "emJp5GIMoV8M",
        "outputId": "e371e1c9-4125-499c-bbc9-b989b13005be"
      },
      "execution_count": null,
      "outputs": [
        {
          "output_type": "stream",
          "name": "stdout",
          "text": [
            "1\n",
            "2\n"
          ]
        }
      ]
    },
    {
      "cell_type": "code",
      "source": [
        "temp = 23.6"
      ],
      "metadata": {
        "id": "NoJDKOBxoXiZ"
      },
      "execution_count": null,
      "outputs": []
    },
    {
      "cell_type": "code",
      "source": [
        "Status = True"
      ],
      "metadata": {
        "id": "jFrOpi7ApcB1"
      },
      "execution_count": null,
      "outputs": []
    },
    {
      "cell_type": "code",
      "source": [
        "print(type(Status))"
      ],
      "metadata": {
        "colab": {
          "base_uri": "https://localhost:8080/"
        },
        "id": "zu15IQ5upfhw",
        "outputId": "a96c5065-8971-43b8-d216-edc4f2a76645"
      },
      "execution_count": null,
      "outputs": [
        {
          "output_type": "stream",
          "name": "stdout",
          "text": [
            "<class 'bool'>\n"
          ]
        }
      ]
    },
    {
      "cell_type": "code",
      "source": [
        "print(type(A))"
      ],
      "metadata": {
        "colab": {
          "base_uri": "https://localhost:8080/"
        },
        "id": "tFms-Rpqpk4n",
        "outputId": "695b2bab-dfe3-4b71-b7bf-affcc4f8f681"
      },
      "execution_count": null,
      "outputs": [
        {
          "output_type": "stream",
          "name": "stdout",
          "text": [
            "<class 'str'>\n"
          ]
        }
      ]
    },
    {
      "cell_type": "code",
      "source": [
        "Mylist = [\"Dell\",1,True]"
      ],
      "metadata": {
        "id": "c_0atCsiqjWp"
      },
      "execution_count": null,
      "outputs": []
    },
    {
      "cell_type": "code",
      "source": [
        "tuples = (\"Dell\",1,True)"
      ],
      "metadata": {
        "id": "ykBS91TcrHtx"
      },
      "execution_count": null,
      "outputs": []
    },
    {
      "cell_type": "code",
      "source": [
        "myset = {\"DEll\",1,True}"
      ],
      "metadata": {
        "id": "-bTW5_fbrPIn"
      },
      "execution_count": null,
      "outputs": []
    },
    {
      "cell_type": "code",
      "source": [
        "mylaptop = {\n",
        "    \"Brand\":\"Dell\",\n",
        "    \"Ram\":16,\n",
        "    \"Active\":True\n",
        "}"
      ],
      "metadata": {
        "id": "7ry2SrPjrXVv"
      },
      "execution_count": null,
      "outputs": []
    },
    {
      "cell_type": "code",
      "source": [
        "print(type(mylaptop))"
      ],
      "metadata": {
        "colab": {
          "base_uri": "https://localhost:8080/"
        },
        "id": "OsJ99bhRriJk",
        "outputId": "95df9fd6-1847-46a3-88a4-ecea70b87c5c"
      },
      "execution_count": null,
      "outputs": [
        {
          "output_type": "stream",
          "name": "stdout",
          "text": [
            "<class 'dict'>\n"
          ]
        }
      ]
    },
    {
      "cell_type": "code",
      "source": [
        "# Numeric Types\n",
        "x = 10\n",
        "y = 3.5\n",
        "z = complex(1, 2)\n",
        "\n",
        "print(\"Numeric Types:\")\n",
        "print(\"Integer:\", x)\n",
        "print(\"Float:\", y)\n",
        "print(\"Complex:\", z)\n",
        "\n",
        "# Sequence Types\n",
        "my_list = [1, 2, 3, 4, 5]\n",
        "my_tuple = (6, 7, 8, 9, 10)\n",
        "my_string = \"Hello, World!\"\n",
        "\n",
        "print(\"\\nSequence Types:\")\n",
        "print(\"List methods:\", dir(my_list))\n",
        "print(\"Tuple methods:\", dir(my_tuple))\n",
        "print(\"String methods:\", dir(my_string))\n",
        "\n",
        "# Set Types\n",
        "my_set = {1, 2, 3, 4, 5}\n",
        "my_frozenset = frozenset({6, 7, 8, 9, 10})\n",
        "\n",
        "print(\"\\nSet Types:\")\n",
        "print(\"Set methods:\", dir(my_set))\n",
        "print(\"Frozenset methods:\", dir(my_frozenset))\n",
        "\n",
        "# Mapping Type\n",
        "my_dict = {\"name\": \"John\", \"age\": 30, \"city\": \"New York\"}\n",
        "\n",
        "print(\"\\nMapping Type:\")\n",
        "print(\"Dictionary methods:\", dir(my_dict))\n",
        "\n",
        "# Boolean Type\n",
        "is_valid = True\n",
        "is_invalid = False\n",
        "\n",
        "print(\"\\nBoolean Type:\")\n",
        "print(\"Valid:\", is_valid)\n",
        "print(\"Invalid:\", is_invalid)\n",
        "\n",
        "# None Type\n",
        "empty_value = None\n",
        "\n",
        "print(\"\\nNone Type:\")\n",
        "print(\"Empty Value:\", empty_value)\n"
      ],
      "metadata": {
        "id": "dYB9crByrl5U"
      },
      "execution_count": null,
      "outputs": []
    },
    {
      "cell_type": "code",
      "source": [
        "\n",
        "\n",
        "\n",
        "# **Case conversion**\n",
        "text = \"This is a MiXeD cAsE string.\"\n",
        "print(\"Original text:\", text)\n",
        "print(\"Lowercase:\", text.lower())\n",
        "print(\"Uppercase:\", text.upper())\n",
        "print(\"Title case:\", text.title())  # First letter of each word capitalized\n",
        "\n",
        "# **Checking character types**\n",
        "print(\"\\nChecking character types:\")\n",
        "text = \"123abc_!@\"\n",
        "print(\"All alphanumeric (letters and digits):\", text.isalnum())\n",
        "print(\"All alphabetic (letters):\", text.isalpha())\n",
        "print(\"All digits:\", text.isdigit())\n",
        "print(\"All lowercase:\", text.islower())\n",
        "print(\"All uppercase:\", text.isupper())\n",
        "\n",
        "# **Finding and extracting substrings**\n",
        "print(\"\\nFinding and extracting substrings:\")\n",
        "text = \"The quick brown fox jumps over the lazy dog\"\n",
        "print(\"Index of 'brown':\", text.find(\"brown\"))  # Returns first occurrence\n",
        "print(\"Index of 'quick' (not found):\", text.find(\"quick\"))  # Returns -1\n",
        "print(\"Extract from 'fox' to 'lazy':\", text[text.find(\"fox\"):text.find(\"lazy\")])\n",
        "\n",
        "# **Replacing and splitting**\n",
        "print(\"\\nReplacing and splitting:\")\n",
        "text = \"Hello, world! This is a string.\"\n",
        "print(\"Replace ',' with ':':\", text.replace(\",\", \":\"))\n",
        "print(\"Split by spaces:\", text.split())  # Returns a list of words\n",
        "\n",
        "# **Joining and formatting**\n",
        "print(\"\\nJoining and formatting:\")\n",
        "name = \"Alice\"\n",
        "age = 30\n",
        "greeting = f\"Hello, {name}! You are {age} years old.\"  # f-string formatting\n",
        "print(greeting)\n",
        "print(\"Join list with '-':\", \"-\".join([\"apple\", \"banana\", \"cherry\"]))\n",
        "\n",
        "# **Checking for prefixes and suffixes**\n",
        "print(\"\\nChecking for prefixes and suffixes:\")\n",
        "text = \"www.example.com\"\n",
        "print(\"Starts with 'www':\", text.startswith(\"www.\"))\n",
        "print(\"Ends with '.com':\", text.endswith(\".com\"))\n",
        "\n",
        "# **Stripping whitespace**\n",
        "print(\"\\nStripping whitespace:\")\n",
        "text = \" \\tPython is awesome! \\n\"\n",
        "print(\"Strip whitespace:\", text.strip())  # Removes leading and trailing whitespace\n",
        "\n",
        "# **Checking string membership**\n",
        "print(\"\\nChecking string membership:\")\n",
        "text = \"Python programming\"\n",
        "print(\"'ing' in text:\", \"ing\" in text)  # True\n",
        "\n"
      ],
      "metadata": {
        "colab": {
          "base_uri": "https://localhost:8080/"
        },
        "id": "DsZaRiq-r8L3",
        "outputId": "e0d908ab-a3d3-449a-e55f-118ea0a0f37d"
      },
      "execution_count": null,
      "outputs": [
        {
          "output_type": "stream",
          "name": "stdout",
          "text": [
            "Original text: This is a MiXeD cAsE string.\n",
            "Lowercase: this is a mixed case string.\n",
            "Uppercase: THIS IS A MIXED CASE STRING.\n",
            "Title case: This Is A Mixed Case String.\n",
            "\n",
            "Checking character types:\n",
            "All alphanumeric (letters and digits): False\n",
            "All alphabetic (letters): False\n",
            "All digits: False\n",
            "All lowercase: True\n",
            "All uppercase: False\n",
            "\n",
            "Finding and extracting substrings:\n",
            "Index of 'brown': 10\n",
            "Index of 'quick' (not found): 4\n",
            "Extract from 'fox' to 'lazy': fox jumps over the \n",
            "\n",
            "Replacing and splitting:\n",
            "Replace ',' with ':': Hello: world! This is a string.\n",
            "Split by spaces: ['Hello,', 'world!', 'This', 'is', 'a', 'string.']\n",
            "\n",
            "Joining and formatting:\n",
            "Hello, Alice! You are 30 years old.\n",
            "Join list with '-': apple-banana-cherry\n",
            "\n",
            "Checking for prefixes and suffixes:\n",
            "Starts with 'www': True\n",
            "Ends with '.com': True\n",
            "\n",
            "Stripping whitespace:\n",
            "Strip whitespace: Python is awesome!\n",
            "\n",
            "Checking string membership:\n",
            "'ing' in text: True\n"
          ]
        }
      ]
    },
    {
      "cell_type": "code",
      "source": [
        "\n",
        "\n",
        "# Create a sample list\n",
        "my_list = [1, \"apple\", 3.14, True]\n",
        "\n",
        "# Adding and Removing elements\n",
        "print(\"\\n**Adding and Removing elements:**\")\n",
        "my_list.append(\"banana\")  # Add element to the end\n",
        "print(my_list)  # [1, \"apple\", 3.14, True, \"banana\"]\n",
        "my_list.extend([False, 5])  # Add elements from another iterable\n",
        "print(my_list)  # [1, \"apple\", 3.14, True, \"banana\", False, 5]\n",
        "my_list.insert(2, \"orange\")  # Insert at specific index\n",
        "print(my_list)  # [1, \"apple\", \"orange\", 3.14, True, \"banana\", False, 5]\n",
        "my_list.remove(3.14)  # Remove first occurrence of element\n",
        "print(my_list)  # [1, \"apple\", \"orange\", True, \"banana\", False, 5]\n",
        "removed_item = my_list.pop(1)  # Remove and return element at index (defaults to last)\n",
        "print(my_list)  # [1, \"orange\", True, \"banana\", False, 5]\n",
        "print(removed_item)  # \"apple\"\n",
        "my_list.clear()  # Remove all elements\n",
        "\n",
        "# Accessing and Modifying\n",
        "print(\"\\n\\n**Accessing and Modifying:**\")\n",
        "my_list = [10, 20, 30, 40]\n",
        "first_element = my_list[0]  # Access element at index\n",
        "print(first_element)  # 10\n",
        "sublist = my_list[1:3]  # Slicing (inclusive:exclusive)\n",
        "print(sublist)  # [20, 30]\n",
        "my_list[2] = \"thirty\"  # Assign to element at index\n",
        "print(my_list)  # [10, 20, \"thirty\", 40]\n",
        "\n",
        "# Searching and Ordering\n",
        "print(\"\\n\\n**Searching and Ordering:**\")\n",
        "my_list = [\"apple\", \"banana\", \"cherry\", \"apple\"]\n",
        "index = my_list.index(\"banana\")  # Find index of element\n",
        "print(index)  # 1\n",
        "count = my_list.count(\"apple\")  # Count occurrences of element\n",
        "print(count)  # 2\n",
        "my_list.sort()  # Sort in-place (ascending)\n",
        "print(my_list)  # [\"apple\", \"apple\", \"banana\", \"cherry\"]\n",
        "my_list.sort(reverse=True)  # Sort in-place (descending)\n",
        "print(my_list)  # [\"cherry\", \"banana\", \"apple\", \"apple\"]\n",
        "\n",
        "# Other methods\n",
        "print(\"\\n\\n**Other methods:**\")\n",
        "my_list = [1, 2, 3, 4, 5]\n",
        "new_list = my_list.copy()  # Create a copy of the list\n",
        "print(f\"Original list: {my_list}\")\n",
        "print(f\"Copied list: {new_list}\")\n",
        "print(f\"Length of the list: {len(my_list)}\")  # Get the length of the list\n",
        "\n",
        "\n"
      ],
      "metadata": {
        "id": "aSL487Fh-f9g"
      },
      "execution_count": null,
      "outputs": []
    },
    {
      "cell_type": "code",
      "source": [
        "\n",
        "# **Tuples** (immutable, limited methods)\n",
        "my_tuple = (1, 2, 3, 2)\n",
        "count_two = my_tuple.count(2)  # Count occurrences of element\n",
        "print(\"Tuples:\")\n",
        "print(f\"Number of '2's in the tuple: {count_two}\")\n",
        "combined_tuple = my_tuple + (4, 5)  # Concatenation\n",
        "print(f\"Combined tuple: {combined_tuple}\")\n",
        "repeated_tuple = my_tuple * 2  # Repetition\n",
        "print(f\"Repeated tuple: {repeated_tuple}\")\n",
        "\n",
        "my_set.add(4)  # Add element\n",
        "print(f\"Set after adding '4': {my_set}\")\n",
        "removed_item = my_set.pop()  # Remove and return arbitrary element\n",
        "print(f\"Set after removing an item: {my_set}\")\n",
        "print(f\"Removed item: {removed_item}\")\n",
        "\n",
        "updated_set = my_set.union({5, 6})  # Union (elements present in either set)\n",
        "print(f\"Union with {5, 6}: {updated_set}\")\n",
        "\n",
        "# **Dictionaries** (unordered, key-value pairs, unique keys)\n",
        "my_dict = {\"name\": \"Alice\", \"age\": 30}\n",
        "greeting = f\"Hello, {my_dict['name']}!\"  # Access value using key\n",
        "print(\"\\nDictionaries:\")\n",
        "print(greeting)\n",
        "\n",
        "updated_dict = my_dict.copy()  # Create a copy\n",
        "updated_dict.update({\"city\": \"New York\"})  # Update with key-value pair\n",
        "print(f\"Updated dictionary: {updated_dict}\")\n",
        "\n",
        "removed_value = my_dict.pop('age')  # Remove and return value with key\n",
        "print(f\"Removed value from original dictionary: {removed_value}\")\n",
        "print(f\"Original dictionary after removal: {my_dict}\")\n",
        "\n",
        "# Additional methods (comment out if not needed)\n",
        "print(f\"Keys: {my_dict.keys()}\")  # View of all keys\n",
        "print(f\"Values: {my_dict.values()}\")  # View of all values\n",
        "print(f\"Items: {my_dict.items()}\")  # View of all key-value pairs\n",
        "\n",
        "\n"
      ],
      "metadata": {
        "id": "senwsBSI-uCJ"
      },
      "execution_count": null,
      "outputs": []
    },
    {
      "cell_type": "code",
      "source": [
        "x = 10\n",
        "y = 20\n",
        "list = [1, 2, 3, 4, 5]\n",
        "\n",
        "# Simple if statement\n",
        "if x < y:\n",
        "    print(\"x is less than y\")\n",
        "\n",
        "# if-else statement\n",
        "if x > y:\n",
        "    print(\"x is greater than y\")\n",
        "else:\n",
        "    print(\"x is not greater than y\")\n",
        "\n",
        "# if-elif-else statement\n",
        "if x > y:\n",
        "    print(\"x is greater than y\")\n",
        "elif x < y:\n",
        "    print(\"x is less than y\")\n",
        "else:\n",
        "    print(\"x is equal to y\")\n",
        "\n",
        "# Nested if statements\n",
        "if x < y:\n",
        "    if y in list:\n",
        "        print(\"y is in the list\")\n",
        "\n",
        "# Single-line if statement (ternary conditional operator)\n",
        "result = \"x is less than y\" if x < y else \"x is greater than or equal to y\"\n",
        "print(result)\n",
        "\n",
        "# Chained comparison operators\n",
        "if 0 < x < 20:\n",
        "    print(\"x is between 0 and 20\")\n",
        "\n",
        "# Logical operators (and, or, not)\n",
        "if x > 5 and y > 10:\n",
        "    print(\"Both x and y are greater than their respective thresholds\")\n",
        "if x < 5 or y > 30:\n",
        "    print(\"Either x is less than 5 or y is greater than 30\")\n",
        "if not (x > 100):\n",
        "    print(\"x is not greater than 100\")\n",
        "\n",
        "# Membership test\n",
        "if 3 in list:\n",
        "    print(\"3 is in the list\")\n",
        "\n",
        "# Identity test\n",
        "a = b = [1, 2, 3]\n",
        "c = [1, 2, 3]\n",
        "if a is b:\n",
        "    print(\"a and b reference the same object\")\n",
        "if a is not c:\n",
        "    print(\"a and c reference different objects\")\n",
        "\n",
        "# Using all() and any() functions\n",
        "condition_list = [x < 20, y > 10, len(list) > 0]\n",
        "if all(condition_list):\n",
        "    print(\"All conditions are True\")\n",
        "if any(condition_list):\n",
        "    print(\"At least one condition is True\")\n"
      ],
      "metadata": {
        "id": "yQpPxqTS_D7C"
      },
      "execution_count": null,
      "outputs": []
    },
    {
      "cell_type": "code",
      "source": [
        "# for loop\n",
        "fruits = [\"apple\", \"banana\", \"cherry\"]\n",
        "for fruit in fruits:\n",
        "    print(fruit)\n",
        "# Output:\n",
        "# apple\n",
        "# banana\n",
        "# cherry\n",
        "\n",
        "# while loop\n",
        "i = 1\n",
        "while i <= 5:\n",
        "    print(i)\n",
        "    i += 1\n",
        "# Output:\n",
        "# 1\n",
        "# 2\n",
        "# 3\n",
        "# 4\n",
        "# 5\n",
        "\n",
        "# break statement\n",
        "for i in range(10):\n",
        "    if i == 5:\n",
        "        break\n",
        "    print(i)\n",
        "# Output:\n",
        "# 0\n",
        "# 1\n",
        "# 2\n",
        "# 3\n",
        "# 4\n",
        "\n",
        "# continue statement\n",
        "for i in range(10):\n",
        "    if i % 2 == 0:\n",
        "        continue\n",
        "    print(i)\n",
        "# Output:\n",
        "# 1\n",
        "# 3\n",
        "# 5\n",
        "# 7\n",
        "# 9\n",
        "\n",
        "# else statement with loops\n",
        "fruits = [\"apple\", \"banana\", \"cherry\"]\n",
        "for fruit in fruits:\n",
        "    print(fruit)\n",
        "else:\n",
        "    print(\"No more fruits left.\")\n",
        "# Output:\n",
        "# apple\n",
        "# banana\n",
        "# cherry\n",
        "# No more fruits left.\n",
        "\n",
        "# Nested loops\n",
        "for i in range(3):\n",
        "    for j in range(2):\n",
        "        print(i, j)\n",
        "# Output:\n",
        "# 0 0\n",
        "# 0 1\n",
        "# 1 0\n",
        "# 1 1\n",
        "# 2 0\n",
        "# 2 1\n"
      ],
      "metadata": {
        "id": "x_7btGS-_vyz"
      },
      "execution_count": null,
      "outputs": []
    },
    {
      "cell_type": "code",
      "source": [
        "# Dictionary representing items and their prices\n",
        "shopping_cart = {\n",
        "    \"apple\": 2.50,\n",
        "    \"banana\": 1.75,\n",
        "    \"orange\": 2.00,\n",
        "    \"grapes\": 3.50,\n",
        "    \"watermelon\": 5.00\n",
        "}\n",
        "\n",
        "# Initialize total cost\n",
        "total_cost = 0\n",
        "\n",
        "# Iterate over each item in the shopping cart\n",
        "for item, price in shopping_cart.items():\n",
        "    print(f\"Item: {item}, Price: ${price}\")\n",
        "    total_cost += price\n",
        "\n",
        "# Print the total cost\n",
        "print(f\"Total cost: ${total_cost}\")\n"
      ],
      "metadata": {
        "colab": {
          "base_uri": "https://localhost:8080/"
        },
        "id": "Gef_5fI4ACUI",
        "outputId": "e0c0c8c4-926f-48b4-a5fb-c61f33caac0e"
      },
      "execution_count": null,
      "outputs": [
        {
          "output_type": "stream",
          "name": "stdout",
          "text": [
            "Item: apple, Price: $2.5\n",
            "Item: banana, Price: $1.75\n",
            "Item: orange, Price: $2.0\n",
            "Item: grapes, Price: $3.5\n",
            "Item: watermelon, Price: $5.0\n",
            "Total cost: $14.75\n"
          ]
        }
      ]
    },
    {
      "cell_type": "code",
      "source": [
        "# Function definition with default parameter\n",
        "def greet(name=\"Guest\"):\n",
        "    print(\"Hello,\", name)\n",
        "\n",
        "# Calling the function with default parameter\n",
        "greet()  # Output: Hello, Guest\n",
        "greet(\"Alice\")  # Output: Hello, Alice\n",
        "\n",
        "# Function with variable-length arguments (*args)\n",
        "def sum_values(*args):\n",
        "    total = 0\n",
        "    for num in args:\n",
        "        total += num\n",
        "    return total\n",
        "\n",
        "# Calling the function with variable number of arguments\n",
        "print(sum_values(1, 2, 3, 4, 5))  # Output: 15\n",
        "\n",
        "# Function with keyword arguments (**kwargs)\n",
        "def greet_with_location(name, location):\n",
        "    print(\"Hello,\", name, \"from\", location)\n",
        "\n",
        "# Calling the function with keyword arguments\n",
        "greet_with_location(name=\"Alice\", location=\"New York\")  # Output: Hello, Alice from New York\n",
        "\n",
        "# Returning multiple values from a function\n",
        "def calculate(x, y):\n",
        "    add = x + y\n",
        "    subtract = x - y\n",
        "    multiply = x * y\n",
        "    divide = x / y\n",
        "    return add, subtract, multiply, divide\n",
        "\n",
        "# Unpacking the returned values\n",
        "addition, subtraction, multiplication, division = calculate(10, 5)\n",
        "print(\"Addition:\", addition)  # Output: Addition: 15\n",
        "print(\"Subtraction:\", subtraction)  # Output: Subtraction: 5\n",
        "print(\"Multiplication:\", multiplication)  # Output: Multiplication: 50\n",
        "print(\"Division:\", division)  # Output: Division: 2.0\n",
        "\n",
        "# Function with docstring\n",
        "def area_of_circle(radius):\n",
        "    \"\"\"\n",
        "    Calculate the area of a circle given its radius.\n",
        "\n",
        "    Args:\n",
        "        radius (float): The radius of the circle.\n",
        "\n",
        "    Returns:\n",
        "        float: The area of the circle.\n",
        "    \"\"\"\n",
        "    return 3.14 * radius ** 2\n",
        "\n",
        "# Accessing function docstring\n",
        "print(area_of_circle.__doc__)\n",
        "\n",
        "# Lambda function (anonymous function)\n",
        "double = lambda x: x * 2\n",
        "print(double(5))  # Output: 10\n",
        "\n",
        "# Higher-order function (function that takes another function as argument)\n",
        "def apply_operation(operation, x, y):\n",
        "    return operation(x, y)\n",
        "\n",
        "result = apply_operation(lambda a, b: a + b, 5, 3)\n",
        "print(\"Result of addition operation:\", result)  # Output: Result of addition operation: 8\n"
      ],
      "metadata": {
        "id": "_uwFYX2E_kgS",
        "colab": {
          "base_uri": "https://localhost:8080/"
        },
        "outputId": "d42e56fa-ef4c-474b-fb86-ed3dc5dbc3a0"
      },
      "execution_count": 1,
      "outputs": [
        {
          "output_type": "stream",
          "name": "stdout",
          "text": [
            "Hello, Guest\n",
            "Hello, Alice\n",
            "15\n",
            "Hello, Alice from New York\n",
            "Addition: 15\n",
            "Subtraction: 5\n",
            "Multiplication: 50\n",
            "Division: 2.0\n",
            "\n",
            "    Calculate the area of a circle given its radius.\n",
            "\n",
            "    Args:\n",
            "        radius (float): The radius of the circle.\n",
            "\n",
            "    Returns:\n",
            "        float: The area of the circle.\n",
            "    \n",
            "10\n",
            "Result of addition operation: 8\n"
          ]
        }
      ]
    }
  ]
}